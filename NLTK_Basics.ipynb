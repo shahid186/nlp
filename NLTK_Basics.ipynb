{
 "cells": [
  {
   "cell_type": "code",
   "execution_count": 81,
   "metadata": {
    "id": "rHGKVgaLCWQ6"
   },
   "outputs": [],
   "source": [
    "import nltk"
   ]
  },
  {
   "cell_type": "code",
   "execution_count": 82,
   "metadata": {
    "colab": {
     "base_uri": "https://localhost:8080/"
    },
    "id": "AOx0T_luCasK",
    "outputId": "93405c67-7333-4dcb-ed2d-a706f87f84fe"
   },
   "outputs": [
    {
     "name": "stderr",
     "output_type": "stream",
     "text": [
      "[nltk_data] Downloading collection 'all'\n",
      "[nltk_data]    | \n",
      "[nltk_data]    | Downloading package abc to /root/nltk_data...\n",
      "[nltk_data]    |   Package abc is already up-to-date!\n",
      "[nltk_data]    | Downloading package alpino to /root/nltk_data...\n",
      "[nltk_data]    |   Package alpino is already up-to-date!\n",
      "[nltk_data]    | Downloading package averaged_perceptron_tagger to\n",
      "[nltk_data]    |     /root/nltk_data...\n",
      "[nltk_data]    |   Package averaged_perceptron_tagger is already up-\n",
      "[nltk_data]    |       to-date!\n",
      "[nltk_data]    | Downloading package averaged_perceptron_tagger_ru to\n",
      "[nltk_data]    |     /root/nltk_data...\n",
      "[nltk_data]    |   Package averaged_perceptron_tagger_ru is already\n",
      "[nltk_data]    |       up-to-date!\n",
      "[nltk_data]    | Downloading package basque_grammars to\n",
      "[nltk_data]    |     /root/nltk_data...\n",
      "[nltk_data]    |   Package basque_grammars is already up-to-date!\n",
      "[nltk_data]    | Downloading package bcp47 to /root/nltk_data...\n",
      "[nltk_data]    |   Package bcp47 is already up-to-date!\n",
      "[nltk_data]    | Downloading package biocreative_ppi to\n",
      "[nltk_data]    |     /root/nltk_data...\n",
      "[nltk_data]    |   Package biocreative_ppi is already up-to-date!\n",
      "[nltk_data]    | Downloading package bllip_wsj_no_aux to\n",
      "[nltk_data]    |     /root/nltk_data...\n",
      "[nltk_data]    |   Package bllip_wsj_no_aux is already up-to-date!\n",
      "[nltk_data]    | Downloading package book_grammars to\n",
      "[nltk_data]    |     /root/nltk_data...\n",
      "[nltk_data]    |   Package book_grammars is already up-to-date!\n",
      "[nltk_data]    | Downloading package brown to /root/nltk_data...\n",
      "[nltk_data]    |   Package brown is already up-to-date!\n",
      "[nltk_data]    | Downloading package brown_tei to /root/nltk_data...\n",
      "[nltk_data]    |   Package brown_tei is already up-to-date!\n",
      "[nltk_data]    | Downloading package cess_cat to /root/nltk_data...\n",
      "[nltk_data]    |   Package cess_cat is already up-to-date!\n",
      "[nltk_data]    | Downloading package cess_esp to /root/nltk_data...\n",
      "[nltk_data]    |   Package cess_esp is already up-to-date!\n",
      "[nltk_data]    | Downloading package chat80 to /root/nltk_data...\n",
      "[nltk_data]    |   Package chat80 is already up-to-date!\n",
      "[nltk_data]    | Downloading package city_database to\n",
      "[nltk_data]    |     /root/nltk_data...\n",
      "[nltk_data]    |   Package city_database is already up-to-date!\n",
      "[nltk_data]    | Downloading package cmudict to /root/nltk_data...\n",
      "[nltk_data]    |   Package cmudict is already up-to-date!\n",
      "[nltk_data]    | Downloading package comparative_sentences to\n",
      "[nltk_data]    |     /root/nltk_data...\n",
      "[nltk_data]    |   Package comparative_sentences is already up-to-\n",
      "[nltk_data]    |       date!\n",
      "[nltk_data]    | Downloading package comtrans to /root/nltk_data...\n",
      "[nltk_data]    |   Package comtrans is already up-to-date!\n",
      "[nltk_data]    | Downloading package conll2000 to /root/nltk_data...\n",
      "[nltk_data]    |   Package conll2000 is already up-to-date!\n",
      "[nltk_data]    | Downloading package conll2002 to /root/nltk_data...\n",
      "[nltk_data]    |   Package conll2002 is already up-to-date!\n",
      "[nltk_data]    | Downloading package conll2007 to /root/nltk_data...\n",
      "[nltk_data]    |   Package conll2007 is already up-to-date!\n",
      "[nltk_data]    | Downloading package crubadan to /root/nltk_data...\n",
      "[nltk_data]    |   Package crubadan is already up-to-date!\n",
      "[nltk_data]    | Downloading package dependency_treebank to\n",
      "[nltk_data]    |     /root/nltk_data...\n",
      "[nltk_data]    |   Package dependency_treebank is already up-to-date!\n",
      "[nltk_data]    | Downloading package dolch to /root/nltk_data...\n",
      "[nltk_data]    |   Package dolch is already up-to-date!\n",
      "[nltk_data]    | Downloading package europarl_raw to\n",
      "[nltk_data]    |     /root/nltk_data...\n",
      "[nltk_data]    |   Package europarl_raw is already up-to-date!\n",
      "[nltk_data]    | Downloading package extended_omw to\n",
      "[nltk_data]    |     /root/nltk_data...\n",
      "[nltk_data]    |   Package extended_omw is already up-to-date!\n",
      "[nltk_data]    | Downloading package floresta to /root/nltk_data...\n",
      "[nltk_data]    |   Package floresta is already up-to-date!\n",
      "[nltk_data]    | Downloading package framenet_v15 to\n",
      "[nltk_data]    |     /root/nltk_data...\n",
      "[nltk_data]    |   Package framenet_v15 is already up-to-date!\n",
      "[nltk_data]    | Downloading package framenet_v17 to\n",
      "[nltk_data]    |     /root/nltk_data...\n",
      "[nltk_data]    |   Package framenet_v17 is already up-to-date!\n",
      "[nltk_data]    | Downloading package gazetteers to /root/nltk_data...\n",
      "[nltk_data]    |   Package gazetteers is already up-to-date!\n",
      "[nltk_data]    | Downloading package genesis to /root/nltk_data...\n",
      "[nltk_data]    |   Package genesis is already up-to-date!\n",
      "[nltk_data]    | Downloading package gutenberg to /root/nltk_data...\n",
      "[nltk_data]    |   Package gutenberg is already up-to-date!\n",
      "[nltk_data]    | Downloading package ieer to /root/nltk_data...\n",
      "[nltk_data]    |   Package ieer is already up-to-date!\n",
      "[nltk_data]    | Downloading package inaugural to /root/nltk_data...\n",
      "[nltk_data]    |   Package inaugural is already up-to-date!\n",
      "[nltk_data]    | Downloading package indian to /root/nltk_data...\n",
      "[nltk_data]    |   Package indian is already up-to-date!\n",
      "[nltk_data]    | Downloading package jeita to /root/nltk_data...\n",
      "[nltk_data]    |   Package jeita is already up-to-date!\n",
      "[nltk_data]    | Downloading package kimmo to /root/nltk_data...\n",
      "[nltk_data]    |   Package kimmo is already up-to-date!\n",
      "[nltk_data]    | Downloading package knbc to /root/nltk_data...\n",
      "[nltk_data]    |   Package knbc is already up-to-date!\n",
      "[nltk_data]    | Downloading package large_grammars to\n",
      "[nltk_data]    |     /root/nltk_data...\n",
      "[nltk_data]    |   Package large_grammars is already up-to-date!\n",
      "[nltk_data]    | Downloading package lin_thesaurus to\n",
      "[nltk_data]    |     /root/nltk_data...\n",
      "[nltk_data]    |   Package lin_thesaurus is already up-to-date!\n",
      "[nltk_data]    | Downloading package mac_morpho to /root/nltk_data...\n",
      "[nltk_data]    |   Package mac_morpho is already up-to-date!\n",
      "[nltk_data]    | Downloading package machado to /root/nltk_data...\n",
      "[nltk_data]    |   Package machado is already up-to-date!\n",
      "[nltk_data]    | Downloading package masc_tagged to /root/nltk_data...\n",
      "[nltk_data]    |   Package masc_tagged is already up-to-date!\n",
      "[nltk_data]    | Downloading package maxent_ne_chunker to\n",
      "[nltk_data]    |     /root/nltk_data...\n",
      "[nltk_data]    |   Package maxent_ne_chunker is already up-to-date!\n",
      "[nltk_data]    | Downloading package maxent_treebank_pos_tagger to\n",
      "[nltk_data]    |     /root/nltk_data...\n",
      "[nltk_data]    |   Package maxent_treebank_pos_tagger is already up-\n",
      "[nltk_data]    |       to-date!\n",
      "[nltk_data]    | Downloading package moses_sample to\n",
      "[nltk_data]    |     /root/nltk_data...\n",
      "[nltk_data]    |   Package moses_sample is already up-to-date!\n",
      "[nltk_data]    | Downloading package movie_reviews to\n",
      "[nltk_data]    |     /root/nltk_data...\n",
      "[nltk_data]    |   Package movie_reviews is already up-to-date!\n",
      "[nltk_data]    | Downloading package mte_teip5 to /root/nltk_data...\n",
      "[nltk_data]    |   Package mte_teip5 is already up-to-date!\n",
      "[nltk_data]    | Downloading package mwa_ppdb to /root/nltk_data...\n",
      "[nltk_data]    |   Package mwa_ppdb is already up-to-date!\n",
      "[nltk_data]    | Downloading package names to /root/nltk_data...\n",
      "[nltk_data]    |   Package names is already up-to-date!\n",
      "[nltk_data]    | Downloading package nombank.1.0 to /root/nltk_data...\n",
      "[nltk_data]    |   Package nombank.1.0 is already up-to-date!\n",
      "[nltk_data]    | Downloading package nonbreaking_prefixes to\n",
      "[nltk_data]    |     /root/nltk_data...\n",
      "[nltk_data]    |   Package nonbreaking_prefixes is already up-to-date!\n",
      "[nltk_data]    | Downloading package nps_chat to /root/nltk_data...\n",
      "[nltk_data]    |   Package nps_chat is already up-to-date!\n",
      "[nltk_data]    | Downloading package omw to /root/nltk_data...\n",
      "[nltk_data]    |   Package omw is already up-to-date!\n",
      "[nltk_data]    | Downloading package omw-1.4 to /root/nltk_data...\n",
      "[nltk_data]    |   Package omw-1.4 is already up-to-date!\n",
      "[nltk_data]    | Downloading package opinion_lexicon to\n",
      "[nltk_data]    |     /root/nltk_data...\n",
      "[nltk_data]    |   Package opinion_lexicon is already up-to-date!\n",
      "[nltk_data]    | Downloading package panlex_swadesh to\n",
      "[nltk_data]    |     /root/nltk_data...\n",
      "[nltk_data]    |   Package panlex_swadesh is already up-to-date!\n",
      "[nltk_data]    | Downloading package paradigms to /root/nltk_data...\n",
      "[nltk_data]    |   Package paradigms is already up-to-date!\n",
      "[nltk_data]    | Downloading package pe08 to /root/nltk_data...\n",
      "[nltk_data]    |   Package pe08 is already up-to-date!\n",
      "[nltk_data]    | Downloading package perluniprops to\n",
      "[nltk_data]    |     /root/nltk_data...\n",
      "[nltk_data]    |   Package perluniprops is already up-to-date!\n",
      "[nltk_data]    | Downloading package pil to /root/nltk_data...\n",
      "[nltk_data]    |   Package pil is already up-to-date!\n",
      "[nltk_data]    | Downloading package pl196x to /root/nltk_data...\n",
      "[nltk_data]    |   Package pl196x is already up-to-date!\n",
      "[nltk_data]    | Downloading package porter_test to /root/nltk_data...\n",
      "[nltk_data]    |   Package porter_test is already up-to-date!\n",
      "[nltk_data]    | Downloading package ppattach to /root/nltk_data...\n",
      "[nltk_data]    |   Package ppattach is already up-to-date!\n",
      "[nltk_data]    | Downloading package problem_reports to\n",
      "[nltk_data]    |     /root/nltk_data...\n",
      "[nltk_data]    |   Package problem_reports is already up-to-date!\n",
      "[nltk_data]    | Downloading package product_reviews_1 to\n",
      "[nltk_data]    |     /root/nltk_data...\n",
      "[nltk_data]    |   Package product_reviews_1 is already up-to-date!\n",
      "[nltk_data]    | Downloading package product_reviews_2 to\n",
      "[nltk_data]    |     /root/nltk_data...\n",
      "[nltk_data]    |   Package product_reviews_2 is already up-to-date!\n",
      "[nltk_data]    | Downloading package propbank to /root/nltk_data...\n",
      "[nltk_data]    |   Package propbank is already up-to-date!\n",
      "[nltk_data]    | Downloading package pros_cons to /root/nltk_data...\n",
      "[nltk_data]    |   Package pros_cons is already up-to-date!\n",
      "[nltk_data]    | Downloading package ptb to /root/nltk_data...\n",
      "[nltk_data]    |   Package ptb is already up-to-date!\n",
      "[nltk_data]    | Downloading package punkt to /root/nltk_data...\n",
      "[nltk_data]    |   Package punkt is already up-to-date!\n",
      "[nltk_data]    | Downloading package qc to /root/nltk_data...\n",
      "[nltk_data]    |   Package qc is already up-to-date!\n",
      "[nltk_data]    | Downloading package reuters to /root/nltk_data...\n",
      "[nltk_data]    |   Package reuters is already up-to-date!\n",
      "[nltk_data]    | Downloading package rslp to /root/nltk_data...\n",
      "[nltk_data]    |   Package rslp is already up-to-date!\n",
      "[nltk_data]    | Downloading package rte to /root/nltk_data...\n",
      "[nltk_data]    |   Package rte is already up-to-date!\n",
      "[nltk_data]    | Downloading package sample_grammars to\n",
      "[nltk_data]    |     /root/nltk_data...\n",
      "[nltk_data]    |   Package sample_grammars is already up-to-date!\n",
      "[nltk_data]    | Downloading package semcor to /root/nltk_data...\n",
      "[nltk_data]    |   Package semcor is already up-to-date!\n",
      "[nltk_data]    | Downloading package senseval to /root/nltk_data...\n",
      "[nltk_data]    |   Package senseval is already up-to-date!\n",
      "[nltk_data]    | Downloading package sentence_polarity to\n",
      "[nltk_data]    |     /root/nltk_data...\n",
      "[nltk_data]    |   Package sentence_polarity is already up-to-date!\n",
      "[nltk_data]    | Downloading package sentiwordnet to\n",
      "[nltk_data]    |     /root/nltk_data...\n",
      "[nltk_data]    |   Package sentiwordnet is already up-to-date!\n",
      "[nltk_data]    | Downloading package shakespeare to /root/nltk_data...\n",
      "[nltk_data]    |   Package shakespeare is already up-to-date!\n",
      "[nltk_data]    | Downloading package sinica_treebank to\n",
      "[nltk_data]    |     /root/nltk_data...\n",
      "[nltk_data]    |   Package sinica_treebank is already up-to-date!\n",
      "[nltk_data]    | Downloading package smultron to /root/nltk_data...\n",
      "[nltk_data]    |   Package smultron is already up-to-date!\n",
      "[nltk_data]    | Downloading package snowball_data to\n",
      "[nltk_data]    |     /root/nltk_data...\n",
      "[nltk_data]    |   Package snowball_data is already up-to-date!\n",
      "[nltk_data]    | Downloading package spanish_grammars to\n",
      "[nltk_data]    |     /root/nltk_data...\n",
      "[nltk_data]    |   Package spanish_grammars is already up-to-date!\n",
      "[nltk_data]    | Downloading package state_union to /root/nltk_data...\n",
      "[nltk_data]    |   Package state_union is already up-to-date!\n",
      "[nltk_data]    | Downloading package stopwords to /root/nltk_data...\n",
      "[nltk_data]    |   Package stopwords is already up-to-date!\n",
      "[nltk_data]    | Downloading package subjectivity to\n",
      "[nltk_data]    |     /root/nltk_data...\n",
      "[nltk_data]    |   Package subjectivity is already up-to-date!\n",
      "[nltk_data]    | Downloading package swadesh to /root/nltk_data...\n",
      "[nltk_data]    |   Package swadesh is already up-to-date!\n",
      "[nltk_data]    | Downloading package switchboard to /root/nltk_data...\n",
      "[nltk_data]    |   Package switchboard is already up-to-date!\n",
      "[nltk_data]    | Downloading package tagsets to /root/nltk_data...\n",
      "[nltk_data]    |   Package tagsets is already up-to-date!\n",
      "[nltk_data]    | Downloading package timit to /root/nltk_data...\n",
      "[nltk_data]    |   Package timit is already up-to-date!\n",
      "[nltk_data]    | Downloading package toolbox to /root/nltk_data...\n",
      "[nltk_data]    |   Package toolbox is already up-to-date!\n",
      "[nltk_data]    | Downloading package treebank to /root/nltk_data...\n",
      "[nltk_data]    |   Package treebank is already up-to-date!\n",
      "[nltk_data]    | Downloading package twitter_samples to\n",
      "[nltk_data]    |     /root/nltk_data...\n",
      "[nltk_data]    |   Package twitter_samples is already up-to-date!\n",
      "[nltk_data]    | Downloading package udhr to /root/nltk_data...\n",
      "[nltk_data]    |   Package udhr is already up-to-date!\n",
      "[nltk_data]    | Downloading package udhr2 to /root/nltk_data...\n",
      "[nltk_data]    |   Package udhr2 is already up-to-date!\n",
      "[nltk_data]    | Downloading package unicode_samples to\n",
      "[nltk_data]    |     /root/nltk_data...\n",
      "[nltk_data]    |   Package unicode_samples is already up-to-date!\n",
      "[nltk_data]    | Downloading package universal_tagset to\n",
      "[nltk_data]    |     /root/nltk_data...\n",
      "[nltk_data]    |   Package universal_tagset is already up-to-date!\n",
      "[nltk_data]    | Downloading package universal_treebanks_v20 to\n",
      "[nltk_data]    |     /root/nltk_data...\n",
      "[nltk_data]    |   Package universal_treebanks_v20 is already up-to-\n",
      "[nltk_data]    |       date!\n",
      "[nltk_data]    | Downloading package vader_lexicon to\n",
      "[nltk_data]    |     /root/nltk_data...\n",
      "[nltk_data]    |   Package vader_lexicon is already up-to-date!\n",
      "[nltk_data]    | Downloading package verbnet to /root/nltk_data...\n",
      "[nltk_data]    |   Package verbnet is already up-to-date!\n",
      "[nltk_data]    | Downloading package verbnet3 to /root/nltk_data...\n",
      "[nltk_data]    |   Package verbnet3 is already up-to-date!\n",
      "[nltk_data]    | Downloading package webtext to /root/nltk_data...\n",
      "[nltk_data]    |   Package webtext is already up-to-date!\n",
      "[nltk_data]    | Downloading package wmt15_eval to /root/nltk_data...\n",
      "[nltk_data]    |   Package wmt15_eval is already up-to-date!\n",
      "[nltk_data]    | Downloading package word2vec_sample to\n",
      "[nltk_data]    |     /root/nltk_data...\n",
      "[nltk_data]    |   Package word2vec_sample is already up-to-date!\n",
      "[nltk_data]    | Downloading package wordnet to /root/nltk_data...\n",
      "[nltk_data]    |   Package wordnet is already up-to-date!\n",
      "[nltk_data]    | Downloading package wordnet2021 to /root/nltk_data...\n",
      "[nltk_data]    |   Package wordnet2021 is already up-to-date!\n",
      "[nltk_data]    | Downloading package wordnet2022 to /root/nltk_data...\n",
      "[nltk_data]    |   Package wordnet2022 is already up-to-date!\n",
      "[nltk_data]    | Downloading package wordnet31 to /root/nltk_data...\n",
      "[nltk_data]    |   Package wordnet31 is already up-to-date!\n",
      "[nltk_data]    | Downloading package wordnet_ic to /root/nltk_data...\n",
      "[nltk_data]    |   Package wordnet_ic is already up-to-date!\n",
      "[nltk_data]    | Downloading package words to /root/nltk_data...\n",
      "[nltk_data]    |   Package words is already up-to-date!\n",
      "[nltk_data]    | Downloading package ycoe to /root/nltk_data...\n",
      "[nltk_data]    |   Package ycoe is already up-to-date!\n",
      "[nltk_data]    | \n",
      "[nltk_data]  Done downloading collection all\n"
     ]
    },
    {
     "data": {
      "text/plain": [
       "True"
      ]
     },
     "execution_count": 82,
     "metadata": {},
     "output_type": "execute_result"
    }
   ],
   "source": [
    "#!pip install nltk\n",
    "nltk.download(\"all\")"
   ]
  },
  {
   "cell_type": "markdown",
   "metadata": {
    "id": "j2pw0dn2cOF1"
   },
   "source": [
    "Tokenization"
   ]
  },
  {
   "cell_type": "code",
   "execution_count": 85,
   "metadata": {
    "id": "k1v9qFbLCsCw"
   },
   "outputs": [],
   "source": [
    "#Tokenization of paragraphs/sentences\n",
    "\n",
    "paragraphs = \"\"\"India is part of the continent of Asia. Most of India forms a peninsula, which means it is surrounded by water on three sides.\n",
    "The world's highest mountain range, the Himalaya, rises in the north. The southeast is bordered by the Bay of Bengal, and the southwest is\n",
    "bordered by the Arabian Sea.India's terrain varies widely, from the Thar Desert in the west to jungles in the northeast.\n",
    "A fertile area called the Ganges Plain covers much of northern India. This formation was created from soil that was deposited by rivers\n",
    "running from the Himalaya. In some places, this layer of silt is over 25,000 feet (7,620 meters) deep.\n",
    "\n",
    "India's varied climate zones support about 65,000 animal species, including elephants, pythons, river dolphins, and rhinos, and 12,000\n",
    "types of flowering plants. It is the only country in the world with both lions and tigers. It's also a bird watcher's paradise.\n",
    "On the coast of the Bay of Bengal is the Sundarbans, the world's largest mangrove forest. Here, tigers swim in the same rivers as dolphins,\n",
    "sea turtles, sharks, and saltwater crocodiles. This unique landscape is constantly under threat as sea levels rise and humans hunt illegally\n",
    "and clear trees for firewood.\n",
    "The Himalaya mountains provide a home for some of India's rarest animals and plants. The most elusive animal is the snow leopard.\n",
    "Bears and black buck live lower down, and in the northeast, the tiger and one-horned rhinoceros can be found.\"\"\""
   ]
  },
  {
   "cell_type": "code",
   "execution_count": 8,
   "metadata": {
    "id": "VUr4DAOUEZjN"
   },
   "outputs": [],
   "source": []
  },
  {
   "cell_type": "markdown",
   "metadata": {
    "id": "TOaWdD1fEmmd"
   },
   "source": [
    "##### Step 1 : Tokenization"
   ]
  },
  {
   "cell_type": "code",
   "execution_count": 86,
   "metadata": {
    "id": "3hy3pjxuErk-"
   },
   "outputs": [],
   "source": [
    "#Tokenizing sentences\n",
    "sentences = nltk.sent_tokenize(paragraphs)\n",
    "\n",
    "#Tokenizing words\n",
    "\n",
    "words = nltk.word_tokenize(paragraphs)"
   ]
  },
  {
   "cell_type": "code",
   "execution_count": 88,
   "metadata": {
    "colab": {
     "base_uri": "https://localhost:8080/",
     "height": 54
    },
    "id": "Bl1F83LAFIxk",
    "outputId": "9a967fda-a195-47fc-e60f-be635d8049dd"
   },
   "outputs": [
    {
     "data": {
      "application/vnd.google.colaboratory.intrinsic+json": {
       "type": "string"
      },
      "text/plain": [
       "\"The southeast is bordered by the Bay of Bengal, and the southwest is\\nbordered by the Arabian Sea.India's terrain varies widely, from the Thar Desert in the west to jungles in the northeast.\""
      ]
     },
     "execution_count": 88,
     "metadata": {},
     "output_type": "execute_result"
    }
   ],
   "source": [
    "#here we get list of sentences, we can extract the specific sentences like shown below\n",
    "#sentences\n",
    "\n",
    "sentences[3]"
   ]
  },
  {
   "cell_type": "code",
   "execution_count": 90,
   "metadata": {
    "colab": {
     "base_uri": "https://localhost:8080/"
    },
    "id": "JlBa9G-cFQS-",
    "outputId": "e4ff4bc2-bc06-4a1e-c277-f959eafcf3be"
   },
   "outputs": [
    {
     "data": {
      "text/plain": [
       "['part',\n",
       " 'of',\n",
       " 'the',\n",
       " 'continent',\n",
       " 'of',\n",
       " 'Asia',\n",
       " '.',\n",
       " 'Most',\n",
       " 'of',\n",
       " 'India',\n",
       " 'forms',\n",
       " 'a',\n",
       " 'peninsula',\n",
       " ',',\n",
       " 'which',\n",
       " 'means',\n",
       " 'it',\n",
       " 'is']"
      ]
     },
     "execution_count": 90,
     "metadata": {},
     "output_type": "execute_result"
    }
   ],
   "source": [
    "#Here it generates list of words, similarly able to extract specific word\n",
    "\n",
    "#words\n",
    "\n",
    "words[2:20]"
   ]
  },
  {
   "cell_type": "code",
   "execution_count": 11,
   "metadata": {
    "id": "jaZ2CYFxFVws"
   },
   "outputs": [],
   "source": []
  },
  {
   "cell_type": "markdown",
   "metadata": {
    "id": "Z3EurzzKnHCH"
   },
   "source": [
    "Step 2 : Stemming"
   ]
  },
  {
   "cell_type": "code",
   "execution_count": 97,
   "metadata": {
    "colab": {
     "base_uri": "https://localhost:8080/",
     "height": 36
    },
    "id": "MANeOijnnJGR",
    "outputId": "aac1dc5d-f340-4dc6-fae1-56ab721f8def"
   },
   "outputs": [
    {
     "data": {
      "application/vnd.google.colaboratory.intrinsic+json": {
       "type": "string"
      },
      "text/plain": [
       "'go'"
      ]
     },
     "execution_count": 97,
     "metadata": {},
     "output_type": "execute_result"
    }
   ],
   "source": [
    "#stemming\n",
    "\n",
    "from nltk.stem import PorterStemmer\n",
    "stemmer = PorterStemmer()\n",
    "\n",
    "#stemmer.stem(\"studies\")\n",
    "\n",
    "stemmer.stem(\"going\")\n",
    "\n"
   ]
  },
  {
   "cell_type": "code",
   "execution_count": 100,
   "metadata": {
    "colab": {
     "base_uri": "https://localhost:8080/",
     "height": 36
    },
    "id": "yIWGf8zvng0V",
    "outputId": "30de6d52-3a9a-4b15-e311-01d1c74463ea"
   },
   "outputs": [
    {
     "data": {
      "application/vnd.google.colaboratory.intrinsic+json": {
       "type": "string"
      },
      "text/plain": [
       "'study'"
      ]
     },
     "execution_count": 100,
     "metadata": {},
     "output_type": "execute_result"
    }
   ],
   "source": [
    "#Lemmatizer\n",
    "\n",
    "from nltk.stem import WordNetLemmatizer\n",
    "\n",
    "lemmatizer = WordNetLemmatizer()\n",
    "\n",
    "lemmatizer.lemmatize(\"studies\")\n"
   ]
  },
  {
   "cell_type": "code",
   "execution_count": 101,
   "metadata": {
    "id": "5MavkR6voHY2"
   },
   "outputs": [],
   "source": [
    "sentences = nltk.sent_tokenize(paragraphs)\n",
    "\n",
    "stemmer = PorterStemmer()\n",
    "\n",
    "#Stemming\n",
    "\n",
    "for i in range(len(sentences)):\n",
    "  words = nltk.word_tokenize(sentences[i])\n",
    "  words = [stemmer.stem(word) for word in words]\n",
    "  sentences[i] = \" \".join(words)"
   ]
  },
  {
   "cell_type": "code",
   "execution_count": 102,
   "metadata": {
    "colab": {
     "base_uri": "https://localhost:8080/"
    },
    "id": "AI1T3coJqh0K",
    "outputId": "5ce33385-b2d9-48ae-d58f-add7f4c96e15"
   },
   "outputs": [
    {
     "data": {
      "text/plain": [
       "['india is part of the contin of asia .',\n",
       " 'most of india form a peninsula , which mean it is surround by water on three side .',\n",
       " \"the world 's highest mountain rang , the himalaya , rise in the north .\",\n",
       " \"the southeast is border by the bay of bengal , and the southwest is border by the arabian sea.india 's terrain vari wide , from the thar desert in the west to jungl in the northeast .\",\n",
       " 'a fertil area call the gang plain cover much of northern india .',\n",
       " 'thi format wa creat from soil that wa deposit by river run from the himalaya .',\n",
       " 'in some place , thi layer of silt is over 25,000 feet ( 7,620 meter ) deep .',\n",
       " \"india 's vari climat zone support about 65,000 anim speci , includ eleph , python , river dolphin , and rhino , and 12,000 type of flower plant .\",\n",
       " 'it is the onli countri in the world with both lion and tiger .',\n",
       " \"it 's also a bird watcher 's paradis .\",\n",
       " \"on the coast of the bay of bengal is the sundarban , the world 's largest mangrov forest .\",\n",
       " 'here , tiger swim in the same river as dolphin , sea turtl , shark , and saltwat crocodil .',\n",
       " 'thi uniqu landscap is constantli under threat as sea level rise and human hunt illeg and clear tree for firewood .',\n",
       " \"the himalaya mountain provid a home for some of india 's rarest anim and plant .\",\n",
       " 'the most elus anim is the snow leopard .',\n",
       " 'bear and black buck live lower down , and in the northeast , the tiger and one-horn rhinocero can be found .']"
      ]
     },
     "execution_count": 102,
     "metadata": {},
     "output_type": "execute_result"
    }
   ],
   "source": [
    "#here Stemmer just removes the some alphabates and it doesnot make any sense right !\n",
    "sentences"
   ]
  },
  {
   "cell_type": "code",
   "execution_count": 103,
   "metadata": {
    "colab": {
     "base_uri": "https://localhost:8080/",
     "height": 36
    },
    "id": "9O5sZsLxqj6k",
    "outputId": "48c728fc-9c25-46ac-dd5a-ef6930712904"
   },
   "outputs": [
    {
     "data": {
      "application/vnd.google.colaboratory.intrinsic+json": {
       "type": "string"
      },
      "text/plain": [
       "'thi format wa creat from soil that wa deposit by river run from the himalaya .'"
      ]
     },
     "execution_count": 103,
     "metadata": {},
     "output_type": "execute_result"
    }
   ],
   "source": [
    "sentences[5]"
   ]
  },
  {
   "cell_type": "code",
   "execution_count": 104,
   "metadata": {
    "id": "wvP16qlwrJNJ"
   },
   "outputs": [],
   "source": [
    "#Lemmatizer\n",
    "\n",
    "sentences = nltk.sent_tokenize(paragraphs)\n",
    "\n",
    "lemmatizer = WordNetLemmatizer()\n",
    "\n",
    "#Stemming\n",
    "\n",
    "for i in range(len(sentences)):\n",
    "  words = nltk.word_tokenize(sentences[i])\n",
    "  words = [lemmatizer.lemmatize(word) for word in words]\n",
    "  sentences[i] = \" \".join(words)"
   ]
  },
  {
   "cell_type": "code",
   "execution_count": 105,
   "metadata": {
    "colab": {
     "base_uri": "https://localhost:8080/"
    },
    "id": "EqCYL4HSr0CJ",
    "outputId": "ec40d885-0d6b-44ad-fd4a-e576ed4a6c36"
   },
   "outputs": [
    {
     "data": {
      "text/plain": [
       "['India is part of the continent of Asia .',\n",
       " 'Most of India form a peninsula , which mean it is surrounded by water on three side .',\n",
       " \"The world 's highest mountain range , the Himalaya , rise in the north .\",\n",
       " \"The southeast is bordered by the Bay of Bengal , and the southwest is bordered by the Arabian Sea.India 's terrain varies widely , from the Thar Desert in the west to jungle in the northeast .\",\n",
       " 'A fertile area called the Ganges Plain cover much of northern India .',\n",
       " 'This formation wa created from soil that wa deposited by river running from the Himalaya .',\n",
       " 'In some place , this layer of silt is over 25,000 foot ( 7,620 meter ) deep .',\n",
       " \"India 's varied climate zone support about 65,000 animal specie , including elephant , python , river dolphin , and rhino , and 12,000 type of flowering plant .\",\n",
       " 'It is the only country in the world with both lion and tiger .',\n",
       " \"It 's also a bird watcher 's paradise .\",\n",
       " \"On the coast of the Bay of Bengal is the Sundarbans , the world 's largest mangrove forest .\",\n",
       " 'Here , tiger swim in the same river a dolphin , sea turtle , shark , and saltwater crocodile .',\n",
       " 'This unique landscape is constantly under threat a sea level rise and human hunt illegally and clear tree for firewood .',\n",
       " \"The Himalaya mountain provide a home for some of India 's rarest animal and plant .\",\n",
       " 'The most elusive animal is the snow leopard .',\n",
       " 'Bears and black buck live lower down , and in the northeast , the tiger and one-horned rhinoceros can be found .']"
      ]
     },
     "execution_count": 105,
     "metadata": {},
     "output_type": "execute_result"
    }
   ],
   "source": [
    "sentences"
   ]
  },
  {
   "cell_type": "code",
   "execution_count": 107,
   "metadata": {
    "colab": {
     "base_uri": "https://localhost:8080/",
     "height": 54
    },
    "id": "s6CW1cY3r15k",
    "outputId": "ec712dfc-9619-4b05-bbf6-fcf0acd7f99c"
   },
   "outputs": [
    {
     "data": {
      "application/vnd.google.colaboratory.intrinsic+json": {
       "type": "string"
      },
      "text/plain": [
       "\"The southeast is bordered by the Bay of Bengal , and the southwest is bordered by the Arabian Sea.India 's terrain varies widely , from the Thar Desert in the west to jungle in the northeast .\""
      ]
     },
     "execution_count": 107,
     "metadata": {},
     "output_type": "execute_result"
    }
   ],
   "source": [
    "sentences[3]"
   ]
  },
  {
   "cell_type": "code",
   "execution_count": 108,
   "metadata": {
    "id": "9UIy_PN_r9pM"
   },
   "outputs": [],
   "source": [
    "from nltk.corpus import stopwords #Corpus means collection of words"
   ]
  },
  {
   "cell_type": "code",
   "execution_count": 109,
   "metadata": {
    "colab": {
     "base_uri": "https://localhost:8080/"
    },
    "id": "G5zVobm0tidJ",
    "outputId": "d1eab0d1-cd55-49e4-e84b-051b01306f01"
   },
   "outputs": [
    {
     "name": "stdout",
     "output_type": "stream",
     "text": [
      "['i', 'me', 'my', 'myself', 'we', 'our', 'ours', 'ourselves', 'you', \"you're\", \"you've\", \"you'll\", \"you'd\", 'your', 'yours', 'yourself', 'yourselves', 'he', 'him', 'his', 'himself', 'she', \"she's\", 'her', 'hers', 'herself', 'it', \"it's\", 'its', 'itself', 'they', 'them', 'their', 'theirs', 'themselves', 'what', 'which', 'who', 'whom', 'this', 'that', \"that'll\", 'these', 'those', 'am', 'is', 'are', 'was', 'were', 'be', 'been', 'being', 'have', 'has', 'had', 'having', 'do', 'does', 'did', 'doing', 'a', 'an', 'the', 'and', 'but', 'if', 'or', 'because', 'as', 'until', 'while', 'of', 'at', 'by', 'for', 'with', 'about', 'against', 'between', 'into', 'through', 'during', 'before', 'after', 'above', 'below', 'to', 'from', 'up', 'down', 'in', 'out', 'on', 'off', 'over', 'under', 'again', 'further', 'then', 'once', 'here', 'there', 'when', 'where', 'why', 'how', 'all', 'any', 'both', 'each', 'few', 'more', 'most', 'other', 'some', 'such', 'no', 'nor', 'not', 'only', 'own', 'same', 'so', 'than', 'too', 'very', 's', 't', 'can', 'will', 'just', 'don', \"don't\", 'should', \"should've\", 'now', 'd', 'll', 'm', 'o', 're', 've', 'y', 'ain', 'aren', \"aren't\", 'couldn', \"couldn't\", 'didn', \"didn't\", 'doesn', \"doesn't\", 'hadn', \"hadn't\", 'hasn', \"hasn't\", 'haven', \"haven't\", 'isn', \"isn't\", 'ma', 'mightn', \"mightn't\", 'mustn', \"mustn't\", 'needn', \"needn't\", 'shan', \"shan't\", 'shouldn', \"shouldn't\", 'wasn', \"wasn't\", 'weren', \"weren't\", 'won', \"won't\", 'wouldn', \"wouldn't\"]\n"
     ]
    }
   ],
   "source": [
    "print(stopwords.words(\"english\"))"
   ]
  },
  {
   "cell_type": "code",
   "execution_count": 110,
   "metadata": {
    "id": "Yy80gsmtt1lR"
   },
   "outputs": [],
   "source": [
    "#nltk.download(\"stopwords\")\n",
    "\n",
    "from nltk.corpus import stopwords\n",
    "\n",
    "sentences = nltk.sent_tokenize(paragraphs)\n",
    "\n",
    "for i in range(len(sentences)):\n",
    "  words = nltk.word_tokenize(sentences[i])\n",
    "  words = [word for word in words if word not in stopwords.words(\"english\")]\n",
    "  sentences[i] = \" \".join(words)"
   ]
  },
  {
   "cell_type": "code",
   "execution_count": 111,
   "metadata": {
    "colab": {
     "base_uri": "https://localhost:8080/"
    },
    "id": "7xd82WUmu4h4",
    "outputId": "c86c9046-0800-4e02-a154-a137fd565bfb"
   },
   "outputs": [
    {
     "data": {
      "text/plain": [
       "['India part continent Asia .',\n",
       " 'Most India forms peninsula , means surrounded water three sides .',\n",
       " \"The world 's highest mountain range , Himalaya , rises north .\",\n",
       " \"The southeast bordered Bay Bengal , southwest bordered Arabian Sea.India 's terrain varies widely , Thar Desert west jungles northeast .\",\n",
       " 'A fertile area called Ganges Plain covers much northern India .',\n",
       " 'This formation created soil deposited rivers running Himalaya .',\n",
       " 'In places , layer silt 25,000 feet ( 7,620 meters ) deep .',\n",
       " \"India 's varied climate zones support 65,000 animal species , including elephants , pythons , river dolphins , rhinos , 12,000 types flowering plants .\",\n",
       " 'It country world lions tigers .',\n",
       " \"It 's also bird watcher 's paradise .\",\n",
       " \"On coast Bay Bengal Sundarbans , world 's largest mangrove forest .\",\n",
       " 'Here , tigers swim rivers dolphins , sea turtles , sharks , saltwater crocodiles .',\n",
       " 'This unique landscape constantly threat sea levels rise humans hunt illegally clear trees firewood .',\n",
       " \"The Himalaya mountains provide home India 's rarest animals plants .\",\n",
       " 'The elusive animal snow leopard .',\n",
       " 'Bears black buck live lower , northeast , tiger one-horned rhinoceros found .']"
      ]
     },
     "execution_count": 111,
     "metadata": {},
     "output_type": "execute_result"
    }
   ],
   "source": [
    "sentences #here wherever there are upper case latters NLP taking it as a noun and thats why not removing, so before tokenization we need\n",
    "# to bring the entire paragraph in lower case #Apply Regex to bring the data in lower case"
   ]
  },
  {
   "cell_type": "code",
   "execution_count": 112,
   "metadata": {
    "colab": {
     "base_uri": "https://localhost:8080/"
    },
    "id": "O7VTFGj38NYS",
    "outputId": "a129b95e-ff94-4472-ccac-01d0d3bb1f97"
   },
   "outputs": [
    {
     "data": {
      "text/plain": [
       "[('India', 'NNP'),\n",
       " ('is', 'VBZ'),\n",
       " ('part', 'NN'),\n",
       " ('of', 'IN'),\n",
       " ('the', 'DT'),\n",
       " ('continent', 'NN'),\n",
       " ('of', 'IN'),\n",
       " ('Asia', 'NNP'),\n",
       " ('.', '.'),\n",
       " ('Most', 'JJS'),\n",
       " ('of', 'IN'),\n",
       " ('India', 'NNP'),\n",
       " ('forms', 'VBZ'),\n",
       " ('a', 'DT'),\n",
       " ('peninsula', 'NN'),\n",
       " (',', ','),\n",
       " ('which', 'WDT'),\n",
       " ('means', 'VBZ'),\n",
       " ('it', 'PRP'),\n",
       " ('is', 'VBZ'),\n",
       " ('surrounded', 'VBN'),\n",
       " ('by', 'IN'),\n",
       " ('water', 'NN'),\n",
       " ('on', 'IN'),\n",
       " ('three', 'CD'),\n",
       " ('sides', 'NNS'),\n",
       " ('.', '.'),\n",
       " ('The', 'DT'),\n",
       " ('world', 'NN'),\n",
       " (\"'s\", 'POS'),\n",
       " ('highest', 'JJS'),\n",
       " ('mountain', 'NN'),\n",
       " ('range', 'NN'),\n",
       " (',', ','),\n",
       " ('the', 'DT'),\n",
       " ('Himalaya', 'NNP'),\n",
       " (',', ','),\n",
       " ('rises', 'VBZ'),\n",
       " ('in', 'IN'),\n",
       " ('the', 'DT'),\n",
       " ('north', 'NN'),\n",
       " ('.', '.'),\n",
       " ('The', 'DT'),\n",
       " ('southeast', 'NN'),\n",
       " ('is', 'VBZ'),\n",
       " ('bordered', 'VBN'),\n",
       " ('by', 'IN'),\n",
       " ('the', 'DT'),\n",
       " ('Bay', 'NNP'),\n",
       " ('of', 'IN'),\n",
       " ('Bengal', 'NNP'),\n",
       " (',', ','),\n",
       " ('and', 'CC'),\n",
       " ('the', 'DT'),\n",
       " ('southwest', 'NN'),\n",
       " ('is', 'VBZ'),\n",
       " ('bordered', 'VBN'),\n",
       " ('by', 'IN'),\n",
       " ('the', 'DT'),\n",
       " ('Arabian', 'NNP'),\n",
       " ('Sea.India', 'NNP'),\n",
       " (\"'s\", 'POS'),\n",
       " ('terrain', 'NN'),\n",
       " ('varies', 'NNS'),\n",
       " ('widely', 'RB'),\n",
       " (',', ','),\n",
       " ('from', 'IN'),\n",
       " ('the', 'DT'),\n",
       " ('Thar', 'NNP'),\n",
       " ('Desert', 'NNP'),\n",
       " ('in', 'IN'),\n",
       " ('the', 'DT'),\n",
       " ('west', 'NN'),\n",
       " ('to', 'TO'),\n",
       " ('jungles', 'NNS'),\n",
       " ('in', 'IN'),\n",
       " ('the', 'DT'),\n",
       " ('northeast', 'NN'),\n",
       " ('.', '.'),\n",
       " ('A', 'DT'),\n",
       " ('fertile', 'JJ'),\n",
       " ('area', 'NN'),\n",
       " ('called', 'VBD'),\n",
       " ('the', 'DT'),\n",
       " ('Ganges', 'NNP'),\n",
       " ('Plain', 'NNP'),\n",
       " ('covers', 'NNS'),\n",
       " ('much', 'RB'),\n",
       " ('of', 'IN'),\n",
       " ('northern', 'JJ'),\n",
       " ('India', 'NNP'),\n",
       " ('.', '.'),\n",
       " ('This', 'DT'),\n",
       " ('formation', 'NN'),\n",
       " ('was', 'VBD'),\n",
       " ('created', 'VBN'),\n",
       " ('from', 'IN'),\n",
       " ('soil', 'NN'),\n",
       " ('that', 'WDT'),\n",
       " ('was', 'VBD'),\n",
       " ('deposited', 'VBN'),\n",
       " ('by', 'IN'),\n",
       " ('rivers', 'NNS'),\n",
       " ('running', 'VBG'),\n",
       " ('from', 'IN'),\n",
       " ('the', 'DT'),\n",
       " ('Himalaya', 'NNP'),\n",
       " ('.', '.'),\n",
       " ('In', 'IN'),\n",
       " ('some', 'DT'),\n",
       " ('places', 'NNS'),\n",
       " (',', ','),\n",
       " ('this', 'DT'),\n",
       " ('layer', 'NN'),\n",
       " ('of', 'IN'),\n",
       " ('silt', 'NN'),\n",
       " ('is', 'VBZ'),\n",
       " ('over', 'IN'),\n",
       " ('25,000', 'CD'),\n",
       " ('feet', 'NNS'),\n",
       " ('(', '('),\n",
       " ('7,620', 'CD'),\n",
       " ('meters', 'NNS'),\n",
       " (')', ')'),\n",
       " ('deep', 'VBP'),\n",
       " ('.', '.'),\n",
       " ('India', 'NNP'),\n",
       " (\"'s\", 'POS'),\n",
       " ('varied', 'JJ'),\n",
       " ('climate', 'NN'),\n",
       " ('zones', 'NNS'),\n",
       " ('support', 'NN'),\n",
       " ('about', 'IN'),\n",
       " ('65,000', 'CD'),\n",
       " ('animal', 'JJ'),\n",
       " ('species', 'NNS'),\n",
       " (',', ','),\n",
       " ('including', 'VBG'),\n",
       " ('elephants', 'NNS'),\n",
       " (',', ','),\n",
       " ('pythons', 'NNS'),\n",
       " (',', ','),\n",
       " ('river', 'NN'),\n",
       " ('dolphins', 'NNS'),\n",
       " (',', ','),\n",
       " ('and', 'CC'),\n",
       " ('rhinos', 'NNS'),\n",
       " (',', ','),\n",
       " ('and', 'CC'),\n",
       " ('12,000', 'CD'),\n",
       " ('types', 'NNS'),\n",
       " ('of', 'IN'),\n",
       " ('flowering', 'NN'),\n",
       " ('plants', 'NNS'),\n",
       " ('.', '.'),\n",
       " ('It', 'PRP'),\n",
       " ('is', 'VBZ'),\n",
       " ('the', 'DT'),\n",
       " ('only', 'JJ'),\n",
       " ('country', 'NN'),\n",
       " ('in', 'IN'),\n",
       " ('the', 'DT'),\n",
       " ('world', 'NN'),\n",
       " ('with', 'IN'),\n",
       " ('both', 'DT'),\n",
       " ('lions', 'NNS'),\n",
       " ('and', 'CC'),\n",
       " ('tigers', 'NNS'),\n",
       " ('.', '.'),\n",
       " ('It', 'PRP'),\n",
       " (\"'s\", 'VBZ'),\n",
       " ('also', 'RB'),\n",
       " ('a', 'DT'),\n",
       " ('bird', 'NN'),\n",
       " ('watcher', 'NN'),\n",
       " (\"'s\", 'POS'),\n",
       " ('paradise', 'NN'),\n",
       " ('.', '.'),\n",
       " ('On', 'IN'),\n",
       " ('the', 'DT'),\n",
       " ('coast', 'NN'),\n",
       " ('of', 'IN'),\n",
       " ('the', 'DT'),\n",
       " ('Bay', 'NNP'),\n",
       " ('of', 'IN'),\n",
       " ('Bengal', 'NNP'),\n",
       " ('is', 'VBZ'),\n",
       " ('the', 'DT'),\n",
       " ('Sundarbans', 'NNPS'),\n",
       " (',', ','),\n",
       " ('the', 'DT'),\n",
       " ('world', 'NN'),\n",
       " (\"'s\", 'POS'),\n",
       " ('largest', 'JJS'),\n",
       " ('mangrove', 'NN'),\n",
       " ('forest', 'NN'),\n",
       " ('.', '.'),\n",
       " ('Here', 'RB'),\n",
       " (',', ','),\n",
       " ('tigers', 'NNS'),\n",
       " ('swim', 'VBP'),\n",
       " ('in', 'IN'),\n",
       " ('the', 'DT'),\n",
       " ('same', 'JJ'),\n",
       " ('rivers', 'NNS'),\n",
       " ('as', 'IN'),\n",
       " ('dolphins', 'NNS'),\n",
       " (',', ','),\n",
       " ('sea', 'NN'),\n",
       " ('turtles', 'NNS'),\n",
       " (',', ','),\n",
       " ('sharks', 'NNS'),\n",
       " (',', ','),\n",
       " ('and', 'CC'),\n",
       " ('saltwater', 'NN'),\n",
       " ('crocodiles', 'NNS'),\n",
       " ('.', '.'),\n",
       " ('This', 'DT'),\n",
       " ('unique', 'JJ'),\n",
       " ('landscape', 'NN'),\n",
       " ('is', 'VBZ'),\n",
       " ('constantly', 'RB'),\n",
       " ('under', 'IN'),\n",
       " ('threat', 'NN'),\n",
       " ('as', 'IN'),\n",
       " ('sea', 'NN'),\n",
       " ('levels', 'NNS'),\n",
       " ('rise', 'NN'),\n",
       " ('and', 'CC'),\n",
       " ('humans', 'NNS'),\n",
       " ('hunt', 'VBP'),\n",
       " ('illegally', 'RB'),\n",
       " ('and', 'CC'),\n",
       " ('clear', 'JJ'),\n",
       " ('trees', 'NNS'),\n",
       " ('for', 'IN'),\n",
       " ('firewood', 'NN'),\n",
       " ('.', '.'),\n",
       " ('The', 'DT'),\n",
       " ('Himalaya', 'NNP'),\n",
       " ('mountains', 'NNS'),\n",
       " ('provide', 'VBP'),\n",
       " ('a', 'DT'),\n",
       " ('home', 'NN'),\n",
       " ('for', 'IN'),\n",
       " ('some', 'DT'),\n",
       " ('of', 'IN'),\n",
       " ('India', 'NNP'),\n",
       " (\"'s\", 'POS'),\n",
       " ('rarest', 'NN'),\n",
       " ('animals', 'NNS'),\n",
       " ('and', 'CC'),\n",
       " ('plants', 'NNS'),\n",
       " ('.', '.'),\n",
       " ('The', 'DT'),\n",
       " ('most', 'RBS'),\n",
       " ('elusive', 'JJ'),\n",
       " ('animal', 'NN'),\n",
       " ('is', 'VBZ'),\n",
       " ('the', 'DT'),\n",
       " ('snow', 'JJ'),\n",
       " ('leopard', 'NN'),\n",
       " ('.', '.'),\n",
       " ('Bears', 'NNP'),\n",
       " ('and', 'CC'),\n",
       " ('black', 'JJ'),\n",
       " ('buck', 'NN'),\n",
       " ('live', 'JJ'),\n",
       " ('lower', 'JJR'),\n",
       " ('down', 'RB'),\n",
       " (',', ','),\n",
       " ('and', 'CC'),\n",
       " ('in', 'IN'),\n",
       " ('the', 'DT'),\n",
       " ('northeast', 'NN'),\n",
       " (',', ','),\n",
       " ('the', 'DT'),\n",
       " ('tiger', 'NN'),\n",
       " ('and', 'CC'),\n",
       " ('one-horned', 'JJ'),\n",
       " ('rhinoceros', 'NNS'),\n",
       " ('can', 'MD'),\n",
       " ('be', 'VB'),\n",
       " ('found', 'VBN'),\n",
       " ('.', '.')]"
      ]
     },
     "execution_count": 112,
     "metadata": {},
     "output_type": "execute_result"
    }
   ],
   "source": [
    "#POS tagging is required for extracting the specific words of specific tag like if you want to extract names, or verbs or adjective etc.\n",
    "words = nltk.word_tokenize(paragraphs)\n",
    "\n",
    "tagged_words = nltk.pos_tag(words)\n",
    "\n",
    "tagged_words"
   ]
  },
  {
   "cell_type": "markdown",
   "metadata": {
    "id": "-x2tVdEu9r7R"
   },
   "source": [
    "CC: It is the conjunction of coordinating\n",
    "\n",
    "CD: It is a digit of cardinal\n",
    "\n",
    "DT: It is the determiner\n",
    "\n",
    "EX: Existential\n",
    "\n",
    "FW: It is a foreign word\n",
    "\n",
    "IN: Preposition and conjunction\n",
    "\n",
    "JJ: Adjective\n",
    "\n",
    "JJR and JJS: Adjective and superlative\n",
    "\n",
    "LS: List marker\n",
    "\n",
    "MD: Modal\n",
    "\n",
    "NN: Singular noun\n",
    "\n",
    "NNS, NNP, NNPS: Proper and plural noun\n",
    "\n",
    "PDT: Predeterminer\n",
    "\n",
    "WRB: Adverb of wh\n",
    "\n",
    "WP$: Possessive wh\n",
    "\n",
    "WP: Pronoun of wh\n",
    "\n",
    "WDT: Determiner of wp\n",
    "\n",
    "VBZ: Verb\n",
    "\n",
    "VBP, VBN, VBG, VBD, VB: Forms of verbs\n",
    "\n",
    "UH: Interjection\n",
    "\n",
    "TO: To go\n",
    "\n",
    "RP: Particle\n",
    "\n",
    "RBS, RB, RBR: Adverb\n"
   ]
  },
  {
   "cell_type": "code",
   "execution_count": 113,
   "metadata": {
    "id": "MwaZYzl6vFdv"
   },
   "outputs": [],
   "source": [
    "#POS tagging here we are extracting nouns\n",
    "\n",
    "words = nltk.word_tokenize(paragraphs)\n",
    "\n",
    "tagged_words = nltk.pos_tag(words)\n",
    "\n",
    "#Tagged word paragraphs\n",
    "word_tags = []\n",
    "for tw in tagged_words:\n",
    "  if tw[1]==\"NNP\":\n",
    "    word_tags.append(tw[0])\n",
    "\n",
    "tagged_paragraphs = \" \".join(word_tags)\n",
    "\n"
   ]
  },
  {
   "cell_type": "code",
   "execution_count": 114,
   "metadata": {
    "colab": {
     "base_uri": "https://localhost:8080/",
     "height": 36
    },
    "id": "Mh16lE8G_KEL",
    "outputId": "dd7e2859-9e9a-457d-ff0a-9f23e36841ad"
   },
   "outputs": [
    {
     "data": {
      "application/vnd.google.colaboratory.intrinsic+json": {
       "type": "string"
      },
      "text/plain": [
       "'India Asia India Himalaya Bay Bengal Arabian Sea.India Thar Desert Ganges Plain India Himalaya India Bay Bengal Himalaya India Bears'"
      ]
     },
     "execution_count": 114,
     "metadata": {},
     "output_type": "execute_result"
    }
   ],
   "source": [
    "tagged_paragraphs # here it extracts the nouns and also the words with 1st alphabet is in upper case."
   ]
  },
  {
   "cell_type": "code",
   "execution_count": 117,
   "metadata": {
    "id": "BdqdDfD-_MBy"
   },
   "outputs": [],
   "source": [
    "tagged_words = nltk.pos_tag([\"NIIT\"])\n",
    "\n",
    "tagged_words = nltk.pos_tag([\"going\"])\n"
   ]
  },
  {
   "cell_type": "code",
   "execution_count": 118,
   "metadata": {
    "colab": {
     "base_uri": "https://localhost:8080/"
    },
    "id": "AdE_4SGZ_5C4",
    "outputId": "57e07197-512a-4cb3-8f6e-cb7e21b2fe6a"
   },
   "outputs": [
    {
     "data": {
      "text/plain": [
       "[('going', 'VBG')]"
      ]
     },
     "execution_count": 118,
     "metadata": {},
     "output_type": "execute_result"
    }
   ],
   "source": [
    "tagged_words"
   ]
  },
  {
   "cell_type": "code",
   "execution_count": 122,
   "metadata": {
    "id": "aEWK4IYr_6m9"
   },
   "outputs": [],
   "source": [
    "#NER\n",
    "\n",
    "paragraph = \"Captain america is one of the Super Hero\""
   ]
  },
  {
   "cell_type": "code",
   "execution_count": 123,
   "metadata": {
    "id": "Fw8XXQmBBeae"
   },
   "outputs": [],
   "source": [
    "#for NER we need to do 1st POS tagging\n",
    "\n",
    "words = nltk.word_tokenize(paragraph)\n",
    "\n",
    "tagg_word = nltk.pos_tag(words)\n",
    "\n",
    "#NER\n",
    "\n",
    "namedENT = nltk.ne_chunk(tagg_word)\n"
   ]
  },
  {
   "cell_type": "code",
   "execution_count": 124,
   "metadata": {
    "colab": {
     "base_uri": "https://localhost:8080/",
     "height": 189
    },
    "id": "qc-LPai9CIeq",
    "outputId": "bcd2b8a7-2853-4011-ce6e-c29a97bdbcb4"
   },
   "outputs": [
    {
     "data": {
      "image/svg+xml": [
       "<svg baseProfile=\"full\" height=\"168px\" preserveAspectRatio=\"xMidYMid meet\" style=\"font-family: times, serif; font-weight:normal; font-style: normal; font-size: 16px;\" version=\"1.1\" viewBox=\"0,0,408.0,168.0\" width=\"408px\" xmlns=\"http://www.w3.org/2000/svg\" xmlns:ev=\"http://www.w3.org/2001/xml-events\" xmlns:xlink=\"http://www.w3.org/1999/xlink\"><defs /><svg width=\"100%\" x=\"0\" y=\"0em\"><defs /><text text-anchor=\"middle\" x=\"50%\" y=\"1em\">S</text></svg><svg width=\"17.6471%\" x=\"0%\" y=\"3em\"><defs /><svg width=\"100%\" x=\"0\" y=\"0em\"><defs /><text text-anchor=\"middle\" x=\"50%\" y=\"1em\">GPE</text></svg><svg width=\"100%\" x=\"0%\" y=\"3em\"><defs /><svg width=\"100%\" x=\"0\" y=\"0em\"><defs /><text text-anchor=\"middle\" x=\"50%\" y=\"1em\">Captain</text></svg><svg width=\"100%\" x=\"0%\" y=\"3em\"><defs /><svg width=\"100%\" x=\"0\" y=\"0em\"><defs /><text text-anchor=\"middle\" x=\"50%\" y=\"1em\">NNP</text></svg></svg><line stroke=\"black\" x1=\"50%\" x2=\"50%\" y1=\"1.2em\" y2=\"3em\" /></svg><line stroke=\"black\" x1=\"50%\" x2=\"50%\" y1=\"1.2em\" y2=\"3em\" /></svg><line stroke=\"black\" x1=\"50%\" x2=\"8.82353%\" y1=\"1.2em\" y2=\"3em\" /><svg width=\"17.6471%\" x=\"17.6471%\" y=\"3em\"><defs /><svg width=\"100%\" x=\"0\" y=\"0em\"><defs /><text text-anchor=\"middle\" x=\"50%\" y=\"1em\">america</text></svg><svg width=\"100%\" x=\"0%\" y=\"3em\"><defs /><svg width=\"100%\" x=\"0\" y=\"0em\"><defs /><text text-anchor=\"middle\" x=\"50%\" y=\"1em\">NN</text></svg></svg><line stroke=\"black\" x1=\"50%\" x2=\"50%\" y1=\"1.2em\" y2=\"3em\" /></svg><line stroke=\"black\" x1=\"50%\" x2=\"26.4706%\" y1=\"1.2em\" y2=\"3em\" /><svg width=\"9.80392%\" x=\"35.2941%\" y=\"3em\"><defs /><svg width=\"100%\" x=\"0\" y=\"0em\"><defs /><text text-anchor=\"middle\" x=\"50%\" y=\"1em\">is</text></svg><svg width=\"100%\" x=\"0%\" y=\"3em\"><defs /><svg width=\"100%\" x=\"0\" y=\"0em\"><defs /><text text-anchor=\"middle\" x=\"50%\" y=\"1em\">VBZ</text></svg></svg><line stroke=\"black\" x1=\"50%\" x2=\"50%\" y1=\"1.2em\" y2=\"3em\" /></svg><line stroke=\"black\" x1=\"50%\" x2=\"40.1961%\" y1=\"1.2em\" y2=\"3em\" /><svg width=\"9.80392%\" x=\"45.098%\" y=\"3em\"><defs /><svg width=\"100%\" x=\"0\" y=\"0em\"><defs /><text text-anchor=\"middle\" x=\"50%\" y=\"1em\">one</text></svg><svg width=\"100%\" x=\"0%\" y=\"3em\"><defs /><svg width=\"100%\" x=\"0\" y=\"0em\"><defs /><text text-anchor=\"middle\" x=\"50%\" y=\"1em\">CD</text></svg></svg><line stroke=\"black\" x1=\"50%\" x2=\"50%\" y1=\"1.2em\" y2=\"3em\" /></svg><line stroke=\"black\" x1=\"50%\" x2=\"50%\" y1=\"1.2em\" y2=\"3em\" /><svg width=\"7.84314%\" x=\"54.902%\" y=\"3em\"><defs /><svg width=\"100%\" x=\"0\" y=\"0em\"><defs /><text text-anchor=\"middle\" x=\"50%\" y=\"1em\">of</text></svg><svg width=\"100%\" x=\"0%\" y=\"3em\"><defs /><svg width=\"100%\" x=\"0\" y=\"0em\"><defs /><text text-anchor=\"middle\" x=\"50%\" y=\"1em\">IN</text></svg></svg><line stroke=\"black\" x1=\"50%\" x2=\"50%\" y1=\"1.2em\" y2=\"3em\" /></svg><line stroke=\"black\" x1=\"50%\" x2=\"58.8235%\" y1=\"1.2em\" y2=\"3em\" /><svg width=\"9.80392%\" x=\"62.7451%\" y=\"3em\"><defs /><svg width=\"100%\" x=\"0\" y=\"0em\"><defs /><text text-anchor=\"middle\" x=\"50%\" y=\"1em\">the</text></svg><svg width=\"100%\" x=\"0%\" y=\"3em\"><defs /><svg width=\"100%\" x=\"0\" y=\"0em\"><defs /><text text-anchor=\"middle\" x=\"50%\" y=\"1em\">DT</text></svg></svg><line stroke=\"black\" x1=\"50%\" x2=\"50%\" y1=\"1.2em\" y2=\"3em\" /></svg><line stroke=\"black\" x1=\"50%\" x2=\"67.6471%\" y1=\"1.2em\" y2=\"3em\" /><svg width=\"27.451%\" x=\"72.549%\" y=\"3em\"><defs /><svg width=\"100%\" x=\"0\" y=\"0em\"><defs /><text text-anchor=\"middle\" x=\"50%\" y=\"1em\">ORGANIZATION</text></svg><svg width=\"53.8462%\" x=\"0%\" y=\"3em\"><defs /><svg width=\"100%\" x=\"0\" y=\"0em\"><defs /><text text-anchor=\"middle\" x=\"50%\" y=\"1em\">Super</text></svg><svg width=\"100%\" x=\"0%\" y=\"3em\"><defs /><svg width=\"100%\" x=\"0\" y=\"0em\"><defs /><text text-anchor=\"middle\" x=\"50%\" y=\"1em\">NNP</text></svg></svg><line stroke=\"black\" x1=\"50%\" x2=\"50%\" y1=\"1.2em\" y2=\"3em\" /></svg><line stroke=\"black\" x1=\"50%\" x2=\"26.9231%\" y1=\"1.2em\" y2=\"3em\" /><svg width=\"46.1538%\" x=\"53.8462%\" y=\"3em\"><defs /><svg width=\"100%\" x=\"0\" y=\"0em\"><defs /><text text-anchor=\"middle\" x=\"50%\" y=\"1em\">Hero</text></svg><svg width=\"100%\" x=\"0%\" y=\"3em\"><defs /><svg width=\"100%\" x=\"0\" y=\"0em\"><defs /><text text-anchor=\"middle\" x=\"50%\" y=\"1em\">NNP</text></svg></svg><line stroke=\"black\" x1=\"50%\" x2=\"50%\" y1=\"1.2em\" y2=\"3em\" /></svg><line stroke=\"black\" x1=\"50%\" x2=\"76.9231%\" y1=\"1.2em\" y2=\"3em\" /></svg><line stroke=\"black\" x1=\"50%\" x2=\"86.2745%\" y1=\"1.2em\" y2=\"3em\" /></svg>"
      ],
      "text/plain": [
       "Tree('S', [Tree('GPE', [('Captain', 'NNP')]), ('america', 'NN'), ('is', 'VBZ'), ('one', 'CD'), ('of', 'IN'), ('the', 'DT'), Tree('ORGANIZATION', [('Super', 'NNP'), ('Hero', 'NNP')])])"
      ]
     },
     "execution_count": 124,
     "metadata": {},
     "output_type": "execute_result"
    }
   ],
   "source": [
    "namedENT"
   ]
  },
  {
   "cell_type": "code",
   "execution_count": 41,
   "metadata": {
    "colab": {
     "base_uri": "https://localhost:8080/"
    },
    "id": "C-_im2v1CJ9a",
    "outputId": "1855e052-951e-47fd-ec2d-4b579a8c0d8f"
   },
   "outputs": [
    {
     "name": "stdout",
     "output_type": "stream",
     "text": [
      "Collecting svgling\n",
      "  Downloading svgling-0.3.1-py3-none-any.whl (21 kB)\n",
      "Collecting svgwrite (from svgling)\n",
      "  Downloading svgwrite-1.4.3-py3-none-any.whl (67 kB)\n",
      "\u001b[2K     \u001b[90m━━━━━━━━━━━━━━━━━━━━━━━━━━━━━━━━━━━━━━━━\u001b[0m \u001b[32m67.1/67.1 kB\u001b[0m \u001b[31m2.5 MB/s\u001b[0m eta \u001b[36m0:00:00\u001b[0m\n",
      "\u001b[?25hInstalling collected packages: svgwrite, svgling\n",
      "Successfully installed svgling-0.3.1 svgwrite-1.4.3\n"
     ]
    }
   ],
   "source": [
    "#!pip install -U nltk\n",
    "#!pip install svgling"
   ]
  },
  {
   "cell_type": "code",
   "execution_count": 125,
   "metadata": {
    "colab": {
     "base_uri": "https://localhost:8080/"
    },
    "id": "F9ZFlWBgCa7C",
    "outputId": "c3e73c36-9aef-4419-c8bd-f048d3a48ae2"
   },
   "outputs": [
    {
     "name": "stdout",
     "output_type": "stream",
     "text": [
      "('one', 'CD')\n"
     ]
    }
   ],
   "source": [
    "print(namedENT[3])"
   ]
  },
  {
   "cell_type": "code",
   "execution_count": null,
   "metadata": {
    "id": "YLoeFHxED8sH"
   },
   "outputs": [],
   "source": [
    "#BOW"
   ]
  },
  {
   "cell_type": "code",
   "execution_count": 126,
   "metadata": {
    "colab": {
     "base_uri": "https://localhost:8080/"
    },
    "id": "kKxBzpjbFcPh",
    "outputId": "33ca0e83-8a7c-4b91-c12f-79c610635350"
   },
   "outputs": [
    {
     "name": "stdout",
     "output_type": "stream",
     "text": [
      "Captain\n",
      "america\n",
      "ate\n",
      "100\n",
      "$\n",
      "samosa\n",
      ".\n",
      "Then\n",
      "ha\n",
      "said\n",
      "I\n",
      "can\n",
      "do\n",
      "this\n",
      "all\n",
      "day\n",
      ".\n"
     ]
    }
   ],
   "source": [
    "#Spacy blank pipeline means nothing is trained everything is new.\n",
    "\n",
    "import spacy\n",
    "\n",
    "nlp = spacy.blank(\"en\")\n",
    "\n",
    "doc = nlp(\"Captain america ate 100$ samosa.Then ha said I can do this all day.\")\n",
    "\n",
    "for token in doc :\n",
    "  print(token)\n"
   ]
  },
  {
   "cell_type": "code",
   "execution_count": 128,
   "metadata": {
    "colab": {
     "base_uri": "https://localhost:8080/"
    },
    "id": "N3PRcZQ9FcTA",
    "outputId": "c93c5378-438a-4a3b-e032-a922532d9101"
   },
   "outputs": [
    {
     "data": {
      "text/plain": [
       "['tok2vec', 'tagger', 'parser', 'attribute_ruler', 'lemmatizer', 'ner']"
      ]
     },
     "execution_count": 128,
     "metadata": {},
     "output_type": "execute_result"
    }
   ],
   "source": [
    "#Download the trained pipeline\n",
    "\n",
    "nlp = spacy.load(\"en_core_web_sm\") #sm : small\n",
    "\n",
    "nlp.pipe_names"
   ]
  },
  {
   "cell_type": "code",
   "execution_count": 129,
   "metadata": {
    "colab": {
     "base_uri": "https://localhost:8080/"
    },
    "id": "cONL2igTHSyZ",
    "outputId": "224dc012-d17f-4a20-ae2d-0a79d7ae8d79"
   },
   "outputs": [
    {
     "name": "stdout",
     "output_type": "stream",
     "text": [
      "Captain | proper noun | Captain\n",
      "america | proper noun | america\n",
      "ate | verb | eat\n",
      "100 | numeral | 100\n",
      "$ | symbol | $\n",
      "samosa | noun | samosa\n",
      ". | punctuation | .\n",
      "Then | adverb | then\n",
      "he | pronoun | he\n",
      "said | verb | say\n",
      "I | pronoun | I\n",
      "can | auxiliary | can\n",
      "do | verb | do\n",
      "this | pronoun | this\n",
      "all | determiner | all\n",
      "day | noun | day\n",
      ". | punctuation | .\n"
     ]
    }
   ],
   "source": [
    "doc = nlp(\"Captain america ate 100$ samosa.Then he said I can do this all day.\") #run with blank pipeline model also\n",
    "\n",
    "for token in doc:\n",
    "  print(token, \"|\", spacy.explain(token.pos_), \"|\", token.lemma_)"
   ]
  },
  {
   "cell_type": "code",
   "execution_count": 58,
   "metadata": {
    "id": "qMyQyaMrIGzG"
   },
   "outputs": [],
   "source": [
    "#!apt-get -qq install -y libarchive-dev && pip install -U libarchive\n",
    "#import libarchive"
   ]
  },
  {
   "cell_type": "markdown",
   "metadata": {
    "id": "ZSSHonbrI6io"
   },
   "source": [
    "Name Entity Recognition"
   ]
  },
  {
   "cell_type": "code",
   "execution_count": 130,
   "metadata": {
    "colab": {
     "base_uri": "https://localhost:8080/"
    },
    "id": "wbe5zSu7I8N1",
    "outputId": "bf93c81e-7071-41ee-e147-bc38fd22c806"
   },
   "outputs": [
    {
     "name": "stdout",
     "output_type": "stream",
     "text": [
      "Tesla ORG\n",
      "$45 billion MONEY\n"
     ]
    }
   ],
   "source": [
    "doc = nlp(\"Tesla will acquire twitter for $45 billion\")\n",
    "\n",
    "for ent in doc.ents:\n",
    "  print(ent.text, ent.label_)"
   ]
  },
  {
   "cell_type": "code",
   "execution_count": 68,
   "metadata": {
    "colab": {
     "base_uri": "https://localhost:8080/",
     "height": 109
    },
    "id": "b6uzBhhUJdRA",
    "outputId": "c7cabb90-18af-40e7-ed6f-e5cb8f5eb59e"
   },
   "outputs": [
    {
     "data": {
      "application/vnd.google.colaboratory.intrinsic+json": {
       "type": "string"
      },
      "text/plain": [
       "'<div class=\"entities\" style=\"line-height: 2.5; direction: ltr\">\\n<mark class=\"entity\" style=\"background: #7aecec; padding: 0.45em 0.6em; margin: 0 0.25em; line-height: 1; border-radius: 0.35em;\">\\n    Tesla\\n    <span style=\"font-size: 0.8em; font-weight: bold; line-height: 1; border-radius: 0.35em; vertical-align: middle; margin-left: 0.5rem\">ORG</span>\\n</mark>\\n will acquire twitter for \\n<mark class=\"entity\" style=\"background: #e4e7d2; padding: 0.45em 0.6em; margin: 0 0.25em; line-height: 1; border-radius: 0.35em;\">\\n    $45 billion\\n    <span style=\"font-size: 0.8em; font-weight: bold; line-height: 1; border-radius: 0.35em; vertical-align: middle; margin-left: 0.5rem\">MONEY</span>\\n</mark>\\n</div>'"
      ]
     },
     "execution_count": 68,
     "metadata": {},
     "output_type": "execute_result"
    }
   ],
   "source": [
    "from spacy import displacy\n",
    "\n",
    "displacy.render(doc, style='ent') #colab give problem while showing the output"
   ]
  },
  {
   "cell_type": "code",
   "execution_count": 131,
   "metadata": {
    "colab": {
     "base_uri": "https://localhost:8080/"
    },
    "id": "xQPz6LXdLVVu",
    "outputId": "4f7776e6-a933-4f94-e7f0-839eebb6fc31"
   },
   "outputs": [
    {
     "name": "stdout",
     "output_type": "stream",
     "text": [
      "Tesla | ORG | Companies, agencies, institutions, etc.\n",
      "Twitter | PRODUCT | Objects, vehicles, foods, etc. (not services)\n",
      "45 | CARDINAL | Numerals that do not fall under another type\n",
      "Milliarden US-Dollar | ORG | Companies, agencies, institutions, etc.\n"
     ]
    }
   ],
   "source": [
    "doc = nlp(\"Tesla wird Twitter für 45 Milliarden US-Dollar übernehmen\")\n",
    "\n",
    "for ent in doc.ents:\n",
    "  print(ent.text, \"|\", ent.label_, \"|\", spacy.explain(ent.label_))"
   ]
  },
  {
   "cell_type": "code",
   "execution_count": 71,
   "metadata": {
    "colab": {
     "base_uri": "https://localhost:8080/"
    },
    "id": "6dvuA6QYMlJW",
    "outputId": "67865cd9-128f-4780-a450-1796abb82f4e"
   },
   "outputs": [
    {
     "name": "stdout",
     "output_type": "stream",
     "text": [
      "Tesla | PROPN | Tesla\n",
      "wird | PROPN | wird\n",
      "Twitter | PROPN | Twitter\n",
      "für | NOUN | für\n",
      "45 | NUM | 45\n",
      "Milliarden | PROPN | Milliarden\n",
      "US | PROPN | US\n",
      "- | PUNCT | -\n",
      "Dollar | PROPN | Dollar\n",
      "übernehmen | NOUN | übernehman\n"
     ]
    }
   ],
   "source": [
    "for token in doc :\n",
    "  print(token, \"|\", token.pos_, \"|\", token.lemma_)"
   ]
  },
  {
   "cell_type": "code",
   "execution_count": 72,
   "metadata": {
    "colab": {
     "base_uri": "https://localhost:8080/"
    },
    "id": "2TmfK0cpM08T",
    "outputId": "3f637252-27a3-4b3d-f34c-b9380a28deb9"
   },
   "outputs": [
    {
     "name": "stdout",
     "output_type": "stream",
     "text": [
      "Tesla ==>index 0 is_alpha: True is_punct False like_num False is_currency False\n",
      "wird ==>index 1 is_alpha: True is_punct False like_num False is_currency False\n",
      "Twitter ==>index 2 is_alpha: True is_punct False like_num False is_currency False\n",
      "für ==>index 3 is_alpha: True is_punct False like_num False is_currency False\n",
      "45 ==>index 4 is_alpha: False is_punct False like_num True is_currency False\n",
      "Milliarden ==>index 5 is_alpha: True is_punct False like_num False is_currency False\n",
      "US ==>index 6 is_alpha: True is_punct False like_num False is_currency False\n",
      "- ==>index 7 is_alpha: False is_punct True like_num False is_currency False\n",
      "Dollar ==>index 8 is_alpha: True is_punct False like_num False is_currency False\n",
      "übernehmen ==>index 9 is_alpha: True is_punct False like_num False is_currency False\n"
     ]
    }
   ],
   "source": [
    "for token in doc:\n",
    "  print(token, \"==>\" \"index\", token.i, \"is_alpha:\", token.is_alpha,\n",
    "        \"is_punct\", token.is_punct,\n",
    "        \"like_num\", token.like_num,\n",
    "        \"is_currency\", token.is_currency)"
   ]
  },
  {
   "cell_type": "code",
   "execution_count": null,
   "metadata": {
    "id": "_mSWMmCCOA0d"
   },
   "outputs": [],
   "source": [
    "#NLP supports other languages also\n",
    "\n",
    "# https://spacy.io/usage/models#languages"
   ]
  },
  {
   "cell_type": "code",
   "execution_count": 132,
   "metadata": {
    "colab": {
     "base_uri": "https://localhost:8080/"
    },
    "id": "6riTUqd5PozG",
    "outputId": "e6aaaf48-82d4-4fd2-d92a-1a5e9a0ac909"
   },
   "outputs": [
    {
     "name": "stdout",
     "output_type": "stream",
     "text": [
      "Chandrayaan False False\n",
      "3 True False\n",
      "के False False\n",
      "लैंडर False False\n",
      "Vikram False False\n",
      "और False False\n",
      "रोवर False False\n",
      "प्रज्ञान False False\n",
      "के False False\n",
      "नींद False False\n",
      "से False False\n",
      "जगने False False\n",
      "को False False\n",
      "लेकर False False\n",
      "नई False False\n",
      "जानकारी False False\n",
      "सामने False False\n",
      "आई False False\n",
      "है False False\n",
      "! False True\n",
      "इसरो False False\n",
      "ने False False\n",
      "विक्रम False False\n",
      "लैंडर False False\n",
      "के False False\n",
      "कुछ False False\n",
      "सर्किट्स False False\n",
      "को False False\n",
      "सोने False False\n",
      "नहीं False False\n",
      "दिया False False\n",
      "था False False\n",
      ". False True\n",
      "वो False False\n",
      "जग False False\n",
      "रहे False False\n",
      "थे False False\n",
      ". False True\n",
      "लगातार False False\n",
      "संपर्क False False\n",
      "किया False False\n",
      "जा False False\n",
      "रहा False False\n",
      "है False False\n",
      ". False True\n"
     ]
    }
   ],
   "source": [
    "nlp = spacy.blank(\"hi\")\n",
    "\n",
    "doc = nlp(\"Chandrayaan 3 के लैंडर Vikram और रोवर प्रज्ञान के नींद से जगने को लेकर नई जानकारी सामने आई है ! इसरो ने विक्रम लैंडर के कुछ सर्किट्स को सोने नहीं दिया था. वो जग रहे थे. लगातार संपर्क किया जा रहा है. \")\n",
    "\n",
    "for token in doc:\n",
    "  print(token, token.like_num, token.is_punct)"
   ]
  },
  {
   "cell_type": "code",
   "execution_count": null,
   "metadata": {
    "id": "o-W61K_yPo2b"
   },
   "outputs": [],
   "source": []
  }
 ],
 "metadata": {
  "colab": {
   "provenance": []
  },
  "kernelspec": {
   "display_name": "Python 3 (ipykernel)",
   "language": "python",
   "name": "python3"
  },
  "language_info": {
   "codemirror_mode": {
    "name": "ipython",
    "version": 3
   },
   "file_extension": ".py",
   "mimetype": "text/x-python",
   "name": "python",
   "nbconvert_exporter": "python",
   "pygments_lexer": "ipython3",
   "version": "3.10.9"
  }
 },
 "nbformat": 4,
 "nbformat_minor": 1
}
